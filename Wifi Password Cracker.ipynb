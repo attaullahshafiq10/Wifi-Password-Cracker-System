{
 "cells": [
  {
   "cell_type": "code",
   "execution_count": null,
   "metadata": {},
   "outputs": [],
   "source": [
    " #Attaullah Shafiq\n",
    " #attaullahshafiq10@gmail.com\n",
    "\n",
    "#import library\n",
    "import subprocess\n",
    "\n",
    "#collect data\n",
    "Collect_data = subprocess.check_output(['netsh', 'wlan', 'show', 'profiles']).decode('utf-8').split('\\n')\n",
    "#collect profiles\n",
    "Collect_profiles = [i.split(\":\")[1][1:-1] for i in Collect_data if \"All User Profile\" in i]\n",
    "for i in Collect_profiles:\n",
    "    results = subprocess.check_output(['netsh', 'wlan', 'show', 'profile', i, 'key=clear']).decode('utf-8').split('\\n')\n",
    "    results = [b.split(\":\")[1][1:-1] for b in results if \"Key Content\" in b]\n",
    "    try:\n",
    "        print (\"Wifi name: {:<20}|  Password: {:<}\".format(i, results[0]))\n",
    "    except IndexError:\n",
    "        print (\"Wifi name: {:<20}|  Password:  {:<}\".format(i, \"\"))\n",
    "        \n",
    "#Enjoy!!!!!!!!"
   ]
  }
 ],
 "metadata": {
  "kernelspec": {
   "display_name": "Python 3",
   "language": "python",
   "name": "python3"
  },
  "language_info": {
   "codemirror_mode": {
    "name": "ipython",
    "version": 3
   },
   "file_extension": ".py",
   "mimetype": "text/x-python",
   "name": "python",
   "nbconvert_exporter": "python",
   "pygments_lexer": "ipython3",
   "version": "3.8.5"
  }
 },
 "nbformat": 4,
 "nbformat_minor": 4
}
